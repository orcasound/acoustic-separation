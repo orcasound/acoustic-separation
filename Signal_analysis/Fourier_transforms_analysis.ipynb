{
 "cells": [
  {
   "cell_type": "markdown",
   "id": "6dfd123d",
   "metadata": {},
   "source": [
    "# Orca calls analysis for acoustic separation from Ambra\n",
    "## Analysis of Fourier Tranforms techniques for underwater denoising\n",
    "\n",
    "Effective denoising strategies for underwater background noise, according to the paper by Akshada N. et al [1], include: \n",
    "- Least Mean Square\n",
    "As the Least Mean Square algorithm require target values to adapt and we do not have reference denoised audios yet, this algorithm has not applicable now.\n",
    "- Fourier Transform filters and Short Time Fourier Transforms filters\n",
    "- Discrete Wavelet Transform \n",
    "- Empirical Mode Decomposition\n",
    "\n",
    "Here, we provide the findings of comparing several Fourier Transform methods on two sets of orca calls. The first set contains a single 25-second audio clip, while the second set has five audio samples with varying lengths, orca calls, and noise levels. These are the links for the [single audio clips](https://drive.google.com/file/d/1cXuDtlvar5QsTkE4K4IIcpQ7j_uVgcoZ/view) and the [5 audio clips](https://drive.google.com/drive/folders/11V-DMLGI66G5QBN0_HVTIKVgl1N9rtSc).\n"
   ]
  },
  {
   "cell_type": "markdown",
   "id": "8f48d3ef",
   "metadata": {},
   "source": [
    "## Fourier Transforms\n",
    "We considered the most  Fourier Transform filters for signal smoothing and denoising [2]:\n",
    "\n",
    "- Moving average filter (with steps of 100 Hz, accounting for a delay of half step)[2]\n",
    "- Moving weighted average filters [2] (binomial and exponential weighting/gaussian e)\n",
    "- Savitzky-Golay filters (fitted using cubic, quartic and quintic polymials [3])\n",
    "- Median Average (fitted with polynomial of degrees 2, 10, 12 [4])\n",
    "- Hampel Filter [5]"
   ]
  },
  {
   "cell_type": "markdown",
   "id": "60206dc3",
   "metadata": {},
   "source": [
    "## Methods\n",
    "The single clip from the first set is an encounter between a humpback and Bigg's killer whales in the Salish sea[6]. Orcas call in the first 7 seconds of the recording, whereas humpbacks begin grunting for 12 seconds beginning at second 11. \n",
    "The 5 clips from the second set, on the other hand, were randomly selected from the acoustic sandbox training dataset from among those that had annotated orca sounds [7].\n",
    "\n",
    "> Both sample sets have been evaluated qualitatively because there aren't any reference denoised clean audios to compare them to. For the second set, we computed Signal-to-Noise-Ratio, Mean Squared Error and Root Mean Squared Error between the denoised and original audio clip.\n",
    "\n",
    "For the first set calculated the original and denoised signals' Welch's power spectral densities for each method. All signal lengths were normalised to be a power of two. In contrast to a large prime factor, scaling the signal size as a power of 2 makes it computationally quicker [8]. Here are the density plots of the single clip [with](https://drive.google.com/file/d/17jkQiZ7y_u9NWl85q0wrqDjtXeCYE89m/view?usp=sharing) and [without](https://drive.google.com/file/d/1B_0xELU8ucPvR9rSp3DHhpmeU09ip6sT/view?usp=sharing) rescaling.\n",
    "Power density estimate without rescaling\n",
    "![Power density estimate without rescaling](https://drive.google.com/uc?export=view&id=1B_0xELU8ucPvR9rSp3DHhpmeU09ip6sT)\n",
    "Power density estimate with rescaling\n",
    "![Power density estimate with rescaling](https://drive.google.com/uc?export=view&id=17jkQiZ7y_u9NWl85q0wrqDjtXeCYE89m)\n",
    "\n",
    "We used the binomial moving average, the moving average filter, and the median average filter to compare performances for the set of 5 clips. The median filter and the hampel filter were the two that performed the best in the single clip experiment, so we decided to use one of them for this set. However, for the collection of 5 clips, the binomial moving average and the moving average did the best audibly, therefore we selected these 2."
   ]
  },
  {
   "cell_type": "markdown",
   "id": "e4925e5e",
   "metadata": {},
   "source": [
    "## Results and discussion\n",
    "## Single clip set\n",
    "Orca calls are mainly high frequency. Due to the presence of both high and low frequency components in humpback grunts, frequency domain thresholding would be ineffective in extracting solely orca calls.  These are the links for the [filtered audio clips](https://drive.google.com/drive/folders/1Ztg4a4yW4EwidA8gROu9PDpPJVgwXz-2) and the [plots](https://drive.google.com/drive/folders/1LGNnf3LYSzhQhCrzFvdlbSxvoCHESuBd).  \n",
    "\n",
    "- [Moving average filter](https://drive.google.com/file/d/1KeDk-uZPtXRM6tEtLe3FdC8kTB-VKqhk/view?usp=sharing)\n",
    "Here, I made a comparison of with the delay of the half step and without it. ![Moving average filter](https://drive.google.com/uc?export=view&id=1KeDk-uZPtXRM6tEtLe3FdC8kTB-VKqhk)\n",
    "- [Moving weighted average filters](https://drive.google.com/file/d/1fYdbr0-ehQCEBFZYrc5w21Wyf8-HH2Qd/view?usp=sharing)\n",
    "The binomial weighting fits the original signal tighter compared to the exponential weighting. ![Moving weighted average filters](https://drive.google.com/uc?export=view&id=1fYdbr0-ehQCEBFZYrc5w21Wyf8-HH2Qd)\n",
    "- [Savitzky-Golay filters](https://drive.google.com/file/d/14P3S4QMR71c4aGcn3cPX2HVzO5lZVekw/view?usp=sharing)\n",
    "In comparison to the 3rd and 4th degree polynomials, the 5th degree polynomial fits better. ![Savitzky-Golay filters](https://drive.google.com/uc?export=view&id=14P3S4QMR71c4aGcn3cPX2HVzO5lZVekw)\n",
    "- [Median Average](https://drive.google.com/file/d/1RqJe4rZ3DJuOiihAPnhD59TE4-tTUyEm/view?usp=sharing)\n",
    "Different polynomial degrees produced results that were similar, therefore I believe adopting the lowest degree of 2 is sufficient. ![Median Average](https://drive.google.com/uc?export=view&id=1RqJe4rZ3DJuOiihAPnhD59TE4-tTUyEm)\n",
    "- [Hampel Filter](https://drive.google.com/file/d/1ea8o4sMrzy9g2Z9VTQRpIvDSvUlp2e2T/view?usp=sharing)\n",
    "The Hampel filter replaces outliers with values that are equivalent to a few standard deviations from the median as opposed to the median filter. Consequently, it performed similarly to the median filter. ![Hampel Filter](https://drive.google.com/uc?export=view&id=1ea8o4sMrzy9g2Z9VTQRpIvDSvUlp2e2T)\n",
    "\n",
    "Due to the regular shape of the original signal power, the median filter and the hampel filter performed the best for the first set."
   ]
  },
  {
   "cell_type": "markdown",
   "id": "9c8ae282",
   "metadata": {},
   "source": [
    "## 5 clips set\n",
    "\n",
    "| |SNR|MSE|RMSE|\n",
    "| ------ | ------ | ------ | ------ |\n",
    "| Mean across clips using the binomial moving average filters |-0.8267|216.2142|13.8225|\n",
    "| Mean across clips using the moving average filter|-0.9858|193.1446|12.9034|\n",
    "| Mean across clips using the median filter|-0.3356|556.8749|21.8629|\n",
    "\n",
    "The metrics for this set were not relevant since the denoised audios had higher metric values the more boat noises they contained. The orca vocalisations were really mistaken for noise. The full results are in this [Google doc](https://docs.google.com/document/d/1fIpVqpbVsaaXW0neziQKhy4vG3QMsNyEjGIX1KY7W0A/edit?usp=sharing) [9]"
   ]
  },
  {
   "cell_type": "markdown",
   "id": "33e6e859",
   "metadata": {},
   "source": [
    "## Conclusion\n",
    "Both experiments have led me to the conclusion that the technique that worked best for a single clip was not the best for a set of five clips. We cannot select a single Fourier transform technique as the best due to the variation in noise levels among samples. In the next post we will analyse the performance of Discrete Wavelet Transforms for denoising."
   ]
  },
  {
   "cell_type": "markdown",
   "id": "ea8d2976",
   "metadata": {},
   "source": [
    "## Bibliography\n",
    "[1] Kawade, A.N. and Shastri, R.K., 2016. Denoising techniques for underwater ambient noise. Int. J. Sci. Technol. Eng, 2(7), pp.150-154.\n",
    "\n",
    "[2] 2022. [online] Available at: <https://uk.mathworks.com/help/signal/ug/signal-smoothing.html> [Accessed 4 August 2022].\n",
    "\n",
    "[3] 2022. [online] Available at: <https://uk.mathworks.com/help/signal/ref/sgolayfilt.html#d123e160326 > [Accessed 4 August 2022].\n",
    "\n",
    "[4] 2022. [online] Available at: <https://uk.mathworks.com/help/signal/ref/medfilt1.html#buu8gnt-3> [Accessed 4 August 2022].\n",
    "\n",
    "[5] 2022. [online] Available at: <https://uk.mathworks.com/help/signal/ref/hampel.html#d123e77267 > [Accessed 4 August 2022].\n",
    "\n",
    "[6] 2022. [online] Available at: <https://www.orcasound.net/2018/12/02/humpback-and-biggs-killer-whales-serenading-in-the-darkness/> [Accessed 4 August 2022].\n",
    "\n",
    "[7] 2022. [online] Available at: <s3://acoustic-sandbox/labeled-data/detection/train/TrainDataLatest_PodCastAllRounds_123567910.tar.gz > [Accessed 4 August 2022].\n",
    "\n",
    "[8] 2022. [online] Available at: <https://uk.mathworks.com/help/matlab/math/basic-spectral-analysis.html> [Accessed 4 August 2022].\n",
    "\n",
    "[9] 2022. [online] Available at: <https://docs.google.com/document/d/1fIpVqpbVsaaXW0neziQKhy4vG3QMsNyEjGIX1KY7W0A/edit?usp=sharing> [Accessed 4 August 2022]."
   ]
  }
 ],
 "metadata": {
  "kernelspec": {
   "display_name": "Python 3 (ipykernel)",
   "language": "python",
   "name": "python3"
  },
  "language_info": {
   "codemirror_mode": {
    "name": "ipython",
    "version": 3
   },
   "file_extension": ".py",
   "mimetype": "text/x-python",
   "name": "python",
   "nbconvert_exporter": "python",
   "pygments_lexer": "ipython3",
   "version": "3.9.7"
  }
 },
 "nbformat": 4,
 "nbformat_minor": 5
}
