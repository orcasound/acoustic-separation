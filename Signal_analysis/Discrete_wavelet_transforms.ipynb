{
 "cells": [
  {
   "cell_type": "markdown",
   "id": "26c53591",
   "metadata": {},
   "source": [
    "# Orca calls analysis for acoustic separation from Ambra\n",
    "## Analysis of Discrete Wavelet Tranforms techniques for underwater denoising\n",
    "As mentioned in the Fourier Transforms analysis, effective denoising strategies for underwater background noise, according to the paper by Akshada N. et al [1], include: \n",
    "- Least Mean Square\n",
    "- Fourier Transform filters and Short Time Fourier Transforms filters\n",
    "- Discrete Wavelet Transform \n",
    "- Empirical Mode Decomposition"
   ]
  },
  {
   "cell_type": "markdown",
   "id": "e602efdf",
   "metadata": {},
   "source": [
    "Here, we provide the findings of comparing several parameters of Discrete Wavelet Transforms on the 25s clip used in the Fourier transforms analysis too. A second 1 minute long clip is then used to compare results using the found parameters. It has a steady flow of orca calls at a high volume. The 25s clip contains an encounter of orca and humpbacks, while in the 1 minute long clip background noises are not as consistent and loud.\n",
    "We evaluated previous literature as well as our own testing to determine the best choice for each parameter.\n",
    "These are the links of the [25s clip](https://drive.google.com/file/d/1cXuDtlvar5QsTkE4K4IIcpQ7j_uVgcoZ/view?usp=sharing) and [1 minute clip](https://drive.google.com/file/d/1D7qzkTXrckdsTwk3Z3fJVvoYsdTCR9SN/view?usp=sharing)."
   ]
  },
  {
   "cell_type": "markdown",
   "id": "79515e24",
   "metadata": {},
   "source": [
    "## Discrete Wavelet Transform\n",
    "These are the parameters we took in account\n",
    "- Wavelet types\n",
    "- Wavelet lengths\n",
    "- Decomposition levels"
   ]
  },
  {
   "cell_type": "markdown",
   "id": "3d2526a3",
   "metadata": {},
   "source": [
    "## Results\n",
    "- Wavelet types\n",
    "Orthogonal wavelets, such as Symlet and Daubechies wavelets, are often employed to denoise signals [1] [2] . Daubechies wavelets, also called compactly-supported orthonormal wavelets [3], have a nonlinear phase and concentrate their energy around the beginning of their support [4]. While Symlets are also known as Daubechies' least-asymmetric wavelets, they are modified Daubechies wavelets. Their phase is nearly linear [5]. \n",
    "We compared Daubechies and Symlets wavelets while holding the other parameters constant (wavelength 6, decomposition level 5).\n",
    "These are the [links to the denoised audio plot using Daubechies wavelets](https://drive.google.com/file/d/1erDM_9f1NToU8BWasZoiZT3xpG-7kUez/view?usp=sharing), [and to the denoised audio plot using Symlet Wavelets](https://drive.google.com/file/d/1kl_oLl8Um7IrRhCO4phoDk3q93_SlKwn/view?usp=sharing).\n",
    "Daubechies wavelets\n",
    "![Daubechies wavelets](https://drive.google.com/uc?export=view&id=1erDM_9f1NToU8BWasZoiZT3xpG-7kUez)\n",
    "Symlets wavelets\n",
    "![Symlets wavelets](https://drive.google.com/uc?export=view&id=1kl_oLl8Um7IrRhCO4phoDk3q93_SlKwn)\n",
    "The Symlets wavelets were more effective in reducing humpback grunt while maintaining orca calls. This might be explained by Symlets having comparable time-varying characteristics to the denoised signal [6].\n",
    "- Wavelet length\n",
    "Wavelet length affects the fine-scale detail of the wavelet shape: longer wavelets are smoother. Wavelengths range from 2 to 20, however wavelengths between 2 and 6 have a greater effect on the result. This is due to the fact that variations in wavelet smoothness are more noticeable at shorter wavelet lengths than at longer wavelet lengths, as are their effects on wavelet coefficients. When we want the output to be less sensitive to sharp edges in the wavelet or minor perturbation, longer wavelengths are desirable [6]. Larger wavelengths, on the other hand, have the following limitations: the coefficients are more impacted by boundary conditions, the computing cost is higher, and the degree of localisation of the wavelet coefficients is reduced [6].\n",
    "We compared wavelets with lengths of 2, 6, and 20, while maintaining the wavelet type (Symlet) and level of decomposition (level 5) unchanged.\n",
    "These are the [links to the denoised audio plot using length 2](https://drive.google.com/file/d/12retQ3hgOtG0uo2E9gib3AjiayQpE__5/view?usp=sharing), [length 20](https://drive.google.com/file/d/1gcgV87EfiJsks7SecsK5oXEuza5rcdcZ/view?usp=sharing) [and length 6](https://drive.google.com/file/d/1kl_oLl8Um7IrRhCO4phoDk3q93_SlKwn/view?usp=sharing) (same as above). \n",
    "Wavelength 2\n",
    "![wavelength 2](https://drive.google.com/uc?export=view&id=12retQ3hgOtG0uo2E9gib3AjiayQpE__5)\n",
    "Wavelength 20\n",
    "![wavelength 20](https://drive.google.com/uc?export=view&id=1gcgV87EfiJsks7SecsK5oXEuza5rcdcZ) \n",
    "Wavelength 6\n",
    "![wavelength 6](https://drive.google.com/uc?export=view&id=1kl_oLl8Um7IrRhCO4phoDk3q93_SlKwn). \n",
    "The plots at wavelengths 2 and 20 produced similar results, although both reduced the intensity of the orca calls. Wavelength 6 was the best since it preserved the first orca calls while reducing humpback grunts.\n",
    "-Decomposition levels\n",
    "Levels of decomposition vary from 1 to the maximum decomposition level [7]. The maximum level of wavelet decomposition ($M$) is computed as  $M = {log_{2}N/(L-1)}$ , where $N$ is the signal length and $L$ is the filter length [8]. In our case, $M=16$.\n",
    "Moyang et al. investigated various decomposition levels for hydrological time series modelling and concluded that decomposition levels under 6 (using Daubechies wavelet with wavelength 3) generated the best results for them, regardless of decomposition method [7].\n",
    "Taking this into account, we compared wavelets with decomposition levels 1, 5, 10 and maximum level (16) while mantaining the other parameters unchanged (Symlets with wavelength 6).\n",
    "These are the [links to the denoised audio plot using level 1](https://drive.google.com/file/d/143FDS-F_RYK4jyBVD-7hPtBt9A0BazV2/view?usp=sharing), [level 5](https://drive.google.com/file/d/1kl_oLl8Um7IrRhCO4phoDk3q93_SlKwn/view?usp=sharing) (same as above), [level 10](https://drive.google.com/file/d/1LE-uBqs5tnuCep6hW_H9uYDeoTyJBzk9/view?usp=sharing),\n",
    "[and maximum level 16](https://drive.google.com/file/d/1PAAL3B3djpThkZJcj4ar6wzHsP13RcJ5/view?usp=sharing).\n",
    "Level 1\n",
    "![level 1](https://drive.google.com/uc?export=view&id=143FDS-F_RYK4jyBVD-7hPtBt9A0BazV2)\n",
    "Level 5\n",
    "![level 5](https://drive.google.com/uc?export=view&id=1kl_oLl8Um7IrRhCO4phoDk3q93_SlKwn)\n",
    "Level 10\n",
    "![level 10](https://drive.google.com/uc?export=view&id=1LE-uBqs5tnuCep6hW_H9uYDeoTyJBzk9)\n",
    "Level 16\n",
    "![level 16](https://drive.google.com/uc?export=view&id=1PAAL3B3djpThkZJcj4ar6wzHsP13RcJ5)\n",
    "The denoised audio with decomposition level 1 was the worst because it also cancelled the majority of the orca calls. Decomposition levels 5, 10, and 16 provided comparable results.\n",
    "\n",
    "Finally, we investigated whether changing the original signal would provide comparable outcomes. We utilised the one-minute audio clip using Symlets with wavelength 5 at three different decomposition levels (5, 10, and maximum level). In thi case, the maximum level is 17.\n",
    "These are the [links to the denoised audio plot using level 5](https://drive.google.com/file/d/1hKuXzKEFFCzW9Wvpoh80NGk77aDscIbq/view?usp=sharing), [level 10](https://drive.google.com/file/d/1LZ0WtHEA8OWRyFcA3dePcXYJToMqidYV/view?usp=sharing),\n",
    "[and maximum level 17](https://drive.google.com/file/d/16g3VSoigIzuhn1VZMAbRg5gErAv0caJQ/view?usp=sharing). \n",
    "Level 5\n",
    "![level 5](https://drive.google.com/uc?export=view&id=1hKuXzKEFFCzW9Wvpoh80NGk77aDscIbq)\n",
    "Level 10\n",
    "![level 10](https://drive.google.com/uc?export=view&id=1LZ0WtHEA8OWRyFcA3dePcXYJToMqidYV)\n",
    "Level 17\n",
    "![maximum level 17](https://drive.google.com/uc?export=view&id=16g3VSoigIzuhn1VZMAbRg5gErAv0caJQ)\n",
    "\n",
    "Orca calls are slightly reduced at all three levels. While levels 17 and 10 provided nearly identical results, level 5 also reduced some background noise.\n",
    "As a result, we confirm that level 5 is the best of the decomposition levels investigated."
   ]
  },
  {
   "cell_type": "markdown",
   "id": "805f623b",
   "metadata": {},
   "source": [
    "## Conclusion\n",
    "After investigating the impact of different parameters on discrete wavelet transforms for underwater sound denoising, we discovered that the optimum parameters are as follows: the best wavelets are Symlet at length 6 with decomposition level 5."
   ]
  },
  {
   "cell_type": "markdown",
   "id": "d83c7204",
   "metadata": {},
   "source": [
    "## Bibliography\n",
    "[1] 2022. [online] Available at: <https://uk.mathworks.com/help/wavelet/gs/choose-a-wavelet.html#:~:text=An%20orthogonal%20wavelet%2C%20such%20as%20a%20Symlet%20or%20Daubechies%20wavelet,very%20critical%20for%20image%20processing> [Accessed 20 August 2022].\n",
    "[2] 2022. [online] Available at: <https://uk.mathworks.com/help/wavelet/ug/wavelet-families-additional-discussion.html#f8-23711> [Accessed 20 August 2022].\n",
    "[3] Rowe, A.C. and Abbott, P.C., 1995. Daubechies wavelets and mathematica. Computers in Physics, 9(6), pp.635-648.\n",
    "[4] Cohen, A., Daubechies, I. and Feauveau, J.C., 1992. Biorthogonal bases of compactly supported wavelets. Communications on pure and applied mathematics, 45(5), pp.485-560.\n",
    "[5] Misiti, M., Misiti, Y., Oppenheim, G. and Poggi, J.M., Wavelet Toolbox: Computation, Visualization. Programming User’s Guide, Ver, 1.\n",
    "[6] Choosing Wavelet Methods, Filters, and Lengths for Functional Brain Network Construction https://www.ncbi.nlm.nih.gov/pmc/articles/PMC4927172/\n",
    "Zhang, Z., Telesford, Q.K., Giusti, C., Lim, K.O. and Bassett, D.S., 2016. Choosing wavelet methods, filters, and lengths for functional brain network construction. PloS one, 11(6), p.e0157243. \n",
    "[7] Yang, M., Sang, Y.F., Liu, C. and Wang, Z., 2016. Discussion on the choice of decomposition level for wavelet based hydrological time series modeling. Water, 8(5), p.197.\n",
    "[8] Wasilewski, F., 2022. Discrete Wavelet Transform (DWT) — PyWavelets Documentation. [online] Pywavelets.readthedocs.io. Available at: <https://pywavelets.readthedocs.io/en/latest/ref/dwt-discrete-wavelet-transform.html> [Accessed 20 August 2022]."
   ]
  },
  {
   "cell_type": "code",
   "execution_count": null,
   "id": "45ae5455",
   "metadata": {},
   "outputs": [],
   "source": []
  }
 ],
 "metadata": {
  "kernelspec": {
   "display_name": "Python 3 (ipykernel)",
   "language": "python",
   "name": "python3"
  },
  "language_info": {
   "codemirror_mode": {
    "name": "ipython",
    "version": 3
   },
   "file_extension": ".py",
   "mimetype": "text/x-python",
   "name": "python",
   "nbconvert_exporter": "python",
   "pygments_lexer": "ipython3",
   "version": "3.9.7"
  }
 },
 "nbformat": 4,
 "nbformat_minor": 5
}
